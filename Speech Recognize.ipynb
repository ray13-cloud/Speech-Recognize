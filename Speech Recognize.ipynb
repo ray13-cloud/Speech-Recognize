{
 "cells": [
  {
   "cell_type": "code",
   "execution_count": 35,
   "metadata": {},
   "outputs": [],
   "source": [
    "import speech_recognition as sr"
   ]
  },
  {
   "cell_type": "code",
   "execution_count": 36,
   "metadata": {},
   "outputs": [
    {
     "name": "stdout",
     "output_type": "stream",
     "text": [
      "Silahkan Bicara..\n",
      "Waktu Selesai\n",
      "Tak Semestinya sayang dijadikan perhiasan Tak Semestinya cinta harus saling memiliki\n"
     ]
    }
   ],
   "source": [
    "engine = sr.Recognizer()\n",
    "mic = sr.Microphone()\n",
    "hasil = \"\"\n",
    "\n",
    "with mic as source:\n",
    "    print(\"Silahkan Bicara..\")\n",
    "    rekaman = engine.listen(source)\n",
    "    print(\"Waktu Selesai\")\n",
    "    \n",
    "    try:\n",
    "        hasil = engine.recognize_google(rekaman, language = \"id-ID\")\n",
    "        print(hasil)\n",
    "    except engine.UnknownValueError:\n",
    "        print(\"Maaf tidak terdeteksi, Coba lagi\")\n",
    "    except Exeption as E:\n",
    "        print(E)"
   ]
  },
  {
   "cell_type": "code",
   "execution_count": 32,
   "metadata": {},
   "outputs": [],
   "source": [
    "text_file = open(\"hasil.txt\", \"w\")\n",
    "text_file.write(hasil)\n",
    "text_file.close()                 "
   ]
  },
  {
   "cell_type": "code",
   "execution_count": null,
   "metadata": {},
   "outputs": [],
   "source": []
  }
 ],
 "metadata": {
  "kernelspec": {
   "display_name": "Python 3",
   "language": "python",
   "name": "python3"
  },
  "language_info": {
   "codemirror_mode": {
    "name": "ipython",
    "version": 3
   },
   "file_extension": ".py",
   "mimetype": "text/x-python",
   "name": "python",
   "nbconvert_exporter": "python",
   "pygments_lexer": "ipython3",
   "version": "3.6.4"
  }
 },
 "nbformat": 4,
 "nbformat_minor": 2
}
